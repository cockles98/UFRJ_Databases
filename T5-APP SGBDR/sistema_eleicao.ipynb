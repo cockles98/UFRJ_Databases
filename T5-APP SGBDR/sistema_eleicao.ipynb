{
 "cells": [
  {
   "cell_type": "markdown",
   "id": "02afe6ab-4ab0-42e2-93d5-6119eb5aa774",
   "metadata": {},
   "source": [
    "# 2.1 Escolher um servidor SGBDR a ser utilizado"
   ]
  },
  {
   "cell_type": "markdown",
   "id": "fa4b7f77-3a5a-405a-a93a-0a980da9c7a0",
   "metadata": {},
   "source": [
    "My SQL"
   ]
  },
  {
   "cell_type": "markdown",
   "id": "be53247e-f5c9-4954-9f52-0af05bc93dda",
   "metadata": {},
   "source": [
    "# 2.2 Baixar, instalar localmente (localhost) e configurar o servidor de banco de dados, ou configurar o serviço do servidor de banco de dados em nuvem (DBaaS)"
   ]
  },
  {
   "cell_type": "markdown",
   "id": "fa39565d-3ab5-401c-b92d-a7e8517219a2",
   "metadata": {},
   "source": [
    "Feito!"
   ]
  },
  {
   "cell_type": "markdown",
   "id": "7652856a-9154-4952-b639-3a783c595f75",
   "metadata": {},
   "source": [
    "# 2.3 Configurar o serviço de segurança do banco de dados (roles, usuários e permissões)"
   ]
  },
  {
   "cell_type": "markdown",
   "id": "efb51dad-aace-466c-90ad-f7e886a402a5",
   "metadata": {},
   "source": [
    "Pendente...."
   ]
  },
  {
   "cell_type": "markdown",
   "id": "f05e22e2-a37d-474b-9623-b3fc1901d429",
   "metadata": {},
   "source": [
    "# 2.4 Baixar os dataset para o projeto e prepará-lo para carga no banco de dados. Esta preparação poderá ser feita utilizando SQL em área de staging do servidor SGBDR. Se a opção for esta última, então haverá a atividade de criação do raw schema da área de staging."
   ]
  },
  {
   "cell_type": "markdown",
   "id": "92e86ef7-a884-4026-a958-76f306be9945",
   "metadata": {},
   "source": [
    "Pendente... \n",
    "\n",
    "Douglas precisa complementar especificando passo a passo o que foi feito."
   ]
  },
  {
   "cell_type": "markdown",
   "id": "76213aef-e528-495a-8253-ef8c4a10fc8d",
   "metadata": {
    "jp-MarkdownHeadingCollapsed": true
   },
   "source": [
    "# 2.5 Projetar a aplicação"
   ]
  },
  {
   "cell_type": "markdown",
   "id": "ef42185a-6d25-4e79-a264-32e6dcc319db",
   "metadata": {},
   "source": [
    "### 2.5.1 Projeto funcional da aplicação"
   ]
  },
  {
   "cell_type": "markdown",
   "id": "a9c08b7f-46bd-4107-b421-05e7fc12787b",
   "metadata": {},
   "source": [
    "(i) Módulo para a geração de datasets para processos de análise"
   ]
  },
  {
   "cell_type": "code",
   "execution_count": null,
   "id": "a37f9b6a-e3ad-4fd9-ad2e-295fcae37b57",
   "metadata": {},
   "outputs": [],
   "source": [
    "import pandas as pd\n",
    "import sqlite3\n",
    "\n",
    "# Conectar ao banco de dados\n",
    "conn = sqlite3.connect('eleicoes.db')\n",
    "\n",
    "def gerar_dataset(query):\n",
    "    # Executar a consulta e retornar o resultado como um DataFrame\n",
    "    df = pd.read_sql_query(query, conn)\n",
    "    return df\n",
    "\n",
    "# Exemplo de uso\n",
    "query = \"\"\"\n",
    "SELECT * \n",
    "FROM PERFIL_ELEITORADO \n",
    "WHERE ANO_ELEICAO = 2024\n",
    "\"\"\"\n",
    "dataset = gerar_dataset(query)\n",
    "print(dataset.head())"
   ]
  },
  {
   "cell_type": "markdown",
   "id": "c6c7586d-cb98-491c-b3d0-1a7a886d898d",
   "metadata": {},
   "source": [
    "(ii) Módulo para a construção dinâmica de gráficos analíticos"
   ]
  },
  {
   "cell_type": "code",
   "execution_count": null,
   "id": "46c3e971-4411-4b6d-8fdd-90d8cff4382d",
   "metadata": {},
   "outputs": [],
   "source": [
    "import matplotlib.pyplot as plt\n",
    "\n",
    "def construir_grafico(df, x_col, y_col, grafico_tipo='bar'):\n",
    "    if grafico_tipo == 'bar':\n",
    "        df.plot(kind='bar', x=x_col, y=y_col)\n",
    "    elif grafico_tipo == 'line':\n",
    "        df.plot(kind='line', x=x_col, y=y_col)\n",
    "    plt.show()\n",
    "\n",
    "# Exemplo de uso\n",
    "construir_grafico(dataset, 'SG_UF', 'QT_ELEITORES_PERFIL', 'bar')"
   ]
  },
  {
   "cell_type": "markdown",
   "id": "6e772376-da31-4192-93ee-eeec78f7a1ae",
   "metadata": {},
   "source": [
    "### 2.5.2 Projeto do banco de dados"
   ]
  },
  {
   "cell_type": "markdown",
   "id": "4149be4d-531f-40ce-a812-5adde4a62e7f",
   "metadata": {},
   "source": [
    "(i) Modelagem do banco de dados até o nível físico"
   ]
  },
  {
   "cell_type": "code",
   "execution_count": null,
   "id": "e75f03d0-2540-468b-beb0-6d28f7ea7e87",
   "metadata": {},
   "outputs": [],
   "source": [
    "-- A tabela já está criada conforme fornecido:\n",
    "CREATE TABLE IF NOT EXISTS PERFIL_ELEITORADO (\n",
    "    DT_GERACAO DATE,\n",
    "    ANO_ELEICAO INT,\n",
    "    SG_UF VARCHAR(2),\n",
    "    NM_MUNICIPIO VARCHAR(100),\n",
    "    NR_ZONA INT,\n",
    "    CD_GENERO INT,\n",
    "    CD_ESTADO_CIVIL INT,\n",
    "    CD_FAIXA_ETARIA INT,\n",
    "    CD_GRAU_ESCOLARIDADE INT,\n",
    "    CD_RACA_COR INT,\n",
    "    CD_IDENTIDADE_GENERO INT,\n",
    "    CD_QUILOMBOLA INT,\n",
    "    CD_INTERPRETE_LIBRAS INT,\n",
    "    QT_ELEITORES_PERFIL INT,\n",
    "    QT_ELEITORES_BIOMETRIA INT,\n",
    "    QT_ELEITORES_DEFICIENCIA INT,\n",
    "    QT_ELEITORES_INC_NM_SOCIAL INT\n",
    ");"
   ]
  },
  {
   "cell_type": "markdown",
   "id": "e3a11106-0169-4eb5-b6a8-459a9e561d45",
   "metadata": {},
   "source": [
    "(ii) Especificação das consultas analíticas e do Nível de Visão (Views)"
   ]
  },
  {
   "cell_type": "code",
   "execution_count": null,
   "id": "b541f5c8-891f-4e2a-8133-00231b7b47e0",
   "metadata": {},
   "outputs": [],
   "source": [
    "-- View para total de eleitores por estado\n",
    "CREATE VIEW total_eleitores_estado AS\n",
    "SELECT \n",
    "    SG_UF, \n",
    "    SUM(QT_ELEITORES_PERFIL) AS total_eleitores\n",
    "FROM \n",
    "    PERFIL_ELEITORADO\n",
    "GROUP BY \n",
    "    SG_UF;\n",
    "\n",
    "-- Consulta para extrair dados da View\n",
    "SELECT * FROM total_eleitores_estado;"
   ]
  },
  {
   "cell_type": "code",
   "execution_count": null,
   "id": "ec1e2048-7485-447d-b528-e8f6e59c422a",
   "metadata": {},
   "outputs": [],
   "source": [
    "-- View para total de eleitores por município\n",
    "CREATE VIEW IF NOT EXISTS total_eleitores_municipio AS\n",
    "SELECT \n",
    "    NM_MUNICIPIO, \n",
    "    SUM(QT_ELEITORES_PERFIL) AS total_eleitores\n",
    "FROM \n",
    "    PERFIL_ELEITORADO\n",
    "GROUP BY \n",
    "    NM_MUNICIPIO;"
   ]
  },
  {
   "cell_type": "code",
   "execution_count": null,
   "id": "b228631b-2b0a-4ec9-8e19-ae98a4fe47de",
   "metadata": {},
   "outputs": [],
   "source": [
    "-- View para total de eleitores por faixa etária\n",
    "CREATE VIEW IF NOT EXISTS total_eleitores_faixa_etaria AS\n",
    "SELECT \n",
    "    CD_FAIXA_ETARIA, \n",
    "    SUM(QT_ELEITORES_PERFIL) AS total_eleitores\n",
    "FROM \n",
    "    PERFIL_ELEITORADO\n",
    "GROUP BY \n",
    "    CD_FAIXA_ETARIA;"
   ]
  },
  {
   "cell_type": "code",
   "execution_count": null,
   "id": "2e4acb9c-1875-41a1-b672-1cfc718b549c",
   "metadata": {},
   "outputs": [],
   "source": [
    "-- View para total de eleitores por grau de escolaridade\n",
    "CREATE VIEW IF NOT EXISTS total_eleitores_escolaridade AS\n",
    "SELECT \n",
    "    CD_GRAU_ESCOLARIDADE, \n",
    "    SUM(QT_ELEITORES_PERFIL) AS total_eleitores\n",
    "FROM \n",
    "    PERFIL_ELEITORADO\n",
    "GROUP BY \n",
    "    CD_GRAU_ESCOLARIDADE;"
   ]
  },
  {
   "cell_type": "code",
   "execution_count": null,
   "id": "4379018c-69d7-4d2d-be4a-6254092614f6",
   "metadata": {},
   "outputs": [],
   "source": [
    "-- View para total de eleitores por raça/cor\n",
    "CREATE VIEW IF NOT EXISTS total_eleitores_raca_cor AS\n",
    "SELECT \n",
    "    CD_RACA_COR, \n",
    "    SUM(QT_ELEITORES_PERFIL) AS total_eleitores\n",
    "FROM \n",
    "    PERFIL_ELEITORADO\n",
    "GROUP BY \n",
    "    CD_RACA_COR;"
   ]
  },
  {
   "cell_type": "code",
   "execution_count": null,
   "id": "103368f6-ed6e-44f4-8dca-a5921fc23b76",
   "metadata": {},
   "outputs": [],
   "source": [
    "-- View para total de eleitores com deficiência\n",
    "CREATE VIEW IF NOT EXISTS total_eleitores_deficiencia AS\n",
    "SELECT \n",
    "    SUM(QT_ELEITORES_DEFICIENCIA) AS total_eleitores_deficiencia\n",
    "FROM \n",
    "    PERFIL_ELEITORADO;"
   ]
  },
  {
   "cell_type": "markdown",
   "id": "2eeeb526-3211-4725-978b-7a3c07c35058",
   "metadata": {},
   "source": [
    "(iii) Projeto dos demais objetos de banco"
   ]
  },
  {
   "cell_type": "code",
   "execution_count": null,
   "id": "bf49bfe5-9a58-4657-94b7-7dfd3b80f616",
   "metadata": {},
   "outputs": [],
   "source": [
    "-- Índices para melhorar o desempenho das consultas\n",
    "CREATE INDEX idx_eleitores_uf ON PERFIL_ELEITORADO (SG_UF);\n",
    "CREATE INDEX idx_eleitores_ano ON PERFIL_ELEITORADO (ANO_ELEICAO);\n",
    "\n",
    "-- Trigger para atualizar uma tabela de log sempre que um perfil de eleitorado for inserido\n",
    "CREATE TABLE IF NOT EXISTS log_insercao (\n",
    "    log_id INTEGER PRIMARY KEY AUTOINCREMENT,\n",
    "    log_data TIMESTAMP DEFAULT CURRENT_TIMESTAMP,\n",
    "    SG_UF VARCHAR(2),\n",
    "    NM_MUNICIPIO VARCHAR(100),\n",
    "    ANO_ELEICAO INT\n",
    ");\n",
    "\n",
    "CREATE TRIGGER log_insercao_perfil\n",
    "AFTER INSERT ON PERFIL_ELEITORADO\n",
    "BEGIN\n",
    "    INSERT INTO log_insercao (SG_UF, NM_MUNICIPIO, ANO_ELEICAO)\n",
    "    VALUES (NEW.SG_UF, NEW.NM_MUNICIPIO, NEW.ANO_ELEICAO);\n",
    "END;\n",
    "\n",
    "-- Stored Procedure para inserir dados no perfil de eleitorado\n",
    "CREATE PROCEDURE insere_perfil_eleitorado (\n",
    "    IN p_DT_GERACAO DATE,\n",
    "    IN p_ANO_ELEICAO INT,\n",
    "    IN p_SG_UF VARCHAR(2),\n",
    "    IN p_NM_MUNICIPIO VARCHAR(100),\n",
    "    IN p_NR_ZONA INT,\n",
    "    IN p_CD_GENERO INT,\n",
    "    IN p_CD_ESTADO_CIVIL INT,\n",
    "    IN p_CD_FAIXA_ETARIA INT,\n",
    "    IN p_CD_GRAU_ESCOLARIDADE INT,\n",
    "    IN p_CD_RACA_COR INT,\n",
    "    IN p_CD_IDENTIDADE_GENERO INT,\n",
    "    IN p_CD_QUILOMBOLA INT,\n",
    "    IN p_CD_INTERPRETE_LIBRAS INT,\n",
    "    IN p_QT_ELEITORES_PERFIL INT,\n",
    "    IN p_QT_ELEITORES_BIOMETRIA INT,\n",
    "    IN p_QT_ELEITORES_DEFICIENCIA INT,\n",
    "    IN p_QT_ELEITORES_INC_NM_SOCIAL INT\n",
    ")\n",
    "BEGIN\n",
    "    INSERT INTO PERFIL_ELEITORADO (\n",
    "        DT_GERACAO, ANO_ELEICAO, SG_UF, NM_MUNICIPIO, NR_ZONA, CD_GENERO, \n",
    "        CD_ESTADO_CIVIL, CD_FAIXA_ETARIA, CD_GRAU_ESCOLARIDADE, CD_RACA_COR, \n",
    "        CD_IDENTIDADE_GENERO, CD_QUILOMBOLA, CD_INTERPRETE_LIBRAS, \n",
    "        QT_ELEITORES_PERFIL, QT_ELEITORES_BIOMETRIA, QT_ELEITORES_DEFICIENCIA, \n",
    "        QT_ELEITORES_INC_NM_SOCIAL\n",
    "    )\n",
    "    VALUES (\n",
    "        p_DT_GERACAO, p_ANO_ELEICAO, p_SG_UF, p_NM_MUNICIPIO, p_NR_ZONA, \n",
    "        p_CD_GENERO, p_CD_ESTADO_CIVIL, p_CD_FAIXA_ETARIA, p_CD_GRAU_ESCOLARIDADE, \n",
    "        p_CD_RACA_COR, p_CD_IDENTIDADE_GENERO, p_CD_QUILOMBOLA, p_CD_INTERPRETE_LIBRAS, \n",
    "        p_QT_ELEITORES_PERFIL, p_QT_ELEITORES_BIOMETRIA, p_QT_ELEITORES_DEFICIENCIA, \n",
    "        p_QT_ELEITORES_INC_NM_SOCIAL\n",
    "    );\n",
    "END;\n"
   ]
  },
  {
   "cell_type": "markdown",
   "id": "ec1844cb-1ccc-4507-b167-ddc70437ccaf",
   "metadata": {},
   "source": [
    "### 2.5.3 Projetos dos testes e validações"
   ]
  },
  {
   "cell_type": "markdown",
   "id": "5b58b3cd-bf9e-43d3-9fcc-5742788f15b0",
   "metadata": {},
   "source": [
    "Testes em Python"
   ]
  },
  {
   "cell_type": "code",
   "execution_count": null,
   "id": "5338191d-2828-4eaf-878f-42b5577b98b8",
   "metadata": {},
   "outputs": [],
   "source": [
    "def test_gerar_dataset():\n",
    "    query = \"SELECT * FROM PERFIL_ELEITORADO WHERE ANO_ELEICAO = 2024\"\n",
    "    dataset = gerar_dataset(query)\n",
    "    assert not dataset.empty, \"Dataset should not be empty\"\n",
    "\n",
    "def test_construir_grafico():\n",
    "    df = pd.DataFrame({\n",
    "        'SG_UF': ['SP', 'RJ', 'MG'],\n",
    "        'QT_ELEITORES_PERFIL': [1000000, 800000, 600000]\n",
    "    })\n",
    "    try:\n",
    "        construir_grafico(df, 'SG_UF', 'QT_ELEITORES_PERFIL', 'bar')\n",
    "    except Exception as e:\n",
    "        assert False, f\"Grafico falhou com erro: {e}\"\n",
    "\n",
    "# Executar testes\n",
    "test_gerar_dataset()\n",
    "test_construir_grafico()"
   ]
  },
  {
   "cell_type": "markdown",
   "id": "35a8e77d-69c0-4325-9f44-5db815a029af",
   "metadata": {},
   "source": [
    "Testes em SQL"
   ]
  },
  {
   "cell_type": "code",
   "execution_count": null,
   "id": "b1788a1d-86d0-41e3-9040-e95204cbb5dd",
   "metadata": {},
   "outputs": [],
   "source": [
    "-- Testar inserção de dados na tabela PERFIL_ELEITORADO\n",
    "INSERT INTO PERFIL_ELEITORADO (\n",
    "    DT_GERACAO, ANO_ELEICAO, SG_UF, NM_MUNICIPIO, NR_ZONA, CD_GENERO, \n",
    "    CD_ESTADO_CIVIL, CD_FAIXA_ETARIA, CD_GRAU_ESCOLARIDADE, CD_RACA_COR, \n",
    "    CD_IDENTIDADE_GENERO, CD_QUILOMBOLA, CD_INTERPRETE_LIBRAS, \n",
    "    QT_ELEITORES_PERFIL, QT_ELEITORES_BIOMETRIA, QT_ELEITORES_DEFICIENCIA, \n",
    "    QT_ELEITORES_INC_NM_SOCIAL\n",
    ") VALUES (\n",
    "    '2024-07-16', 2024, 'SP', 'Sao Paulo', 1, 1, 1, 1, 1, 1, 1, 1, 1, \n",
    "    1000, 500, 100, 50\n",
    ");\n",
    "\n",
    "SELECT * FROM PERFIL_ELEITORADO WHERE SG_UF = 'SP';\n",
    "\n",
    "-- Testar View de total de eleitores por estado\n",
    "SELECT * FROM total_eleitores_estado WHERE SG_UF = 'SP';\n",
    "\n",
    "-- Verificar se Trigger está funcionando corretamente\n",
    "INSERT INTO PERFIL_ELEITORADO (\n",
    "    DT_GERACAO, ANO_ELEICAO, SG_UF, NM_MUNICIPIO, NR_ZONA, CD_GENERO, \n",
    "    CD_ESTADO_CIVIL, CD_FAIXA_ETARIA, CD_GRAU_ESCOLARIDADE, CD_RACA_COR, \n",
    "    CD_IDENTIDADE_GENERO, CD_QUILOMBOLA, CD_INTERPRETE_LIBRAS, \n",
    "    QT_ELEITORES_PERFIL, QT_ELEITORES_BIOMETRIA, QT_ELEITORES_DEFICIENCIA, \n",
    "    QT_ELEITORES_INC_NM_SOCIAL\n",
    ") VALUES (\n",
    "    '2024-07-16', 2024, 'RJ', 'Rio de Janeiro', 2, 2, 2, 2, 2, 2, 2, 2, 2, \n",
    "    800, 400, 80, 40\n",
    ");\n",
    "\n",
    "SELECT * FROM log_insercao;"
   ]
  },
  {
   "cell_type": "markdown",
   "id": "2916f1c9-5094-4318-b3c8-cb61aca6e52f",
   "metadata": {
    "jp-MarkdownHeadingCollapsed": true
   },
   "source": [
    "# 2.6 Desenvolver, codificar e testar a aplicação, as consultas, as Views e demais objetos de banco"
   ]
  },
  {
   "cell_type": "markdown",
   "id": "1ae43e7f-fbdc-4a5c-b7aa-4f68c7f63814",
   "metadata": {},
   "source": [
    "Passo 1: Desenvolver a aplicação em Python"
   ]
  },
  {
   "cell_type": "code",
   "execution_count": null,
   "id": "29bbbfd7-91c0-4f30-bac0-9ac5fd82675c",
   "metadata": {},
   "outputs": [],
   "source": [
    "import pandas as pd\n",
    "import sqlite3\n",
    "import matplotlib.pyplot as plt\n",
    "\n",
    "# Conectar ao banco de dados\n",
    "conn = sqlite3.connect('eleicoes.db')\n",
    "\n",
    "# Função para executar uma consulta SQL e retornar o resultado como um DataFrame\n",
    "def gerar_dataset(query):\n",
    "    df = pd.read_sql_query(query, conn)\n",
    "    return df\n",
    "\n",
    "# Função para construir gráficos dinâmicos\n",
    "def construir_grafico(df, x_col, y_col, grafico_tipo='bar'):\n",
    "    if grafico_tipo == 'bar':\n",
    "        df.plot(kind='bar', x=x_col, y=y_col)\n",
    "    elif grafico_tipo == 'line':\n",
    "        df.plot(kind='line', x=x_col, y=y_col)\n",
    "    plt.show()"
   ]
  },
  {
   "cell_type": "code",
   "execution_count": null,
   "id": "53d20a1e-6be0-42a3-8415-fb7fd877cfda",
   "metadata": {},
   "outputs": [],
   "source": [
    "def inserir_dados_perfil_eleitorado(dados):\n",
    "    cursor = conn.cursor()\n",
    "    cursor.executemany(\"\"\"\n",
    "        INSERT INTO PERFIL_ELEITORADO (\n",
    "            DT_GERACAO, ANO_ELEICAO, SG_UF, NM_MUNICIPIO, NR_ZONA, CD_GENERO, \n",
    "            CD_ESTADO_CIVIL, CD_FAIXA_ETARIA, CD_GRAU_ESCOLARIDADE, CD_RACA_COR, \n",
    "            CD_IDENTIDADE_GENERO, CD_QUILOMBOLA, CD_INTERPRETE_LIBRAS, \n",
    "            QT_ELEITORES_PERFIL, QT_ELEITORES_BIOMETRIA, QT_ELEITORES_DEFICIENCIA, \n",
    "            QT_ELEITORES_INC_NM_SOCIAL\n",
    "        ) VALUES (?, ?, ?, ?, ?, ?, ?, ?, ?, ?, ?, ?, ?, ?, ?, ?, ?)\n",
    "    \"\"\", dados)\n",
    "    conn.commit()\n",
    "\n",
    "# Exemplo de uso\n",
    "dados_exemplo = [\n",
    "    ('2024-07-16', 2024, 'SP', 'Sao Paulo', 1, 1, 1, 1, 1, 1, 1, 1, 1, 1000, 500, 100, 50),\n",
    "    ('2024-07-16', 2024, 'RJ', 'Rio de Janeiro', 2, 2, 2, 2, 2, 2, 2, 2, 2, 800, 400, 80, 40)\n",
    "]\n",
    "inserir_dados_perfil_eleitorado(dados_exemplo)"
   ]
  },
  {
   "cell_type": "code",
   "execution_count": null,
   "id": "31b7f119-fbae-4dac-9d0e-f6e79133f10d",
   "metadata": {},
   "outputs": [],
   "source": [
    "def gerar_relatorio_total_eleitores_por_estado():\n",
    "    query = \"\"\"\n",
    "    SELECT SG_UF, SUM(QT_ELEITORES_PERFIL) AS total_eleitores\n",
    "    FROM PERFIL_ELEITORADO\n",
    "    GROUP BY SG_UF\n",
    "    \"\"\"\n",
    "    df = gerar_dataset(query)\n",
    "    print(df)\n",
    "    construir_grafico(df, 'SG_UF', 'total_eleitores', 'bar')\n",
    "\n",
    "# Exemplo de uso\n",
    "gerar_relatorio_total_eleitores_por_estado()"
   ]
  },
  {
   "cell_type": "markdown",
   "id": "89c765d8-9e2f-472f-9f0a-8c00a7ec79d1",
   "metadata": {},
   "source": [
    "Passo 2: Desenvolver e testar consultas SQL e Views"
   ]
  },
  {
   "cell_type": "markdown",
   "id": "230c8c99-8fe4-44d7-b02d-3311bd7e9730",
   "metadata": {},
   "source": [
    "Criação de uma View para total de eleitores por estado"
   ]
  },
  {
   "cell_type": "code",
   "execution_count": null,
   "id": "4b5138b2-ef56-4ef9-b7db-10206d57786b",
   "metadata": {},
   "outputs": [],
   "source": [
    "CREATE VIEW IF NOT EXISTS total_eleitores_estado AS\n",
    "SELECT \n",
    "    SG_UF, \n",
    "    SUM(QT_ELEITORES_PERFIL) AS total_eleitores\n",
    "FROM \n",
    "    PERFIL_ELEITORADO\n",
    "GROUP BY \n",
    "    SG_UF;\n"
   ]
  },
  {
   "cell_type": "markdown",
   "id": "8c6a3c48-a0b7-4ae1-ab4b-fa81fd5ee6b2",
   "metadata": {},
   "source": [
    "Testes SQL"
   ]
  },
  {
   "cell_type": "code",
   "execution_count": null,
   "id": "d5b41820-6d0a-4881-bbfc-3da49d3980d3",
   "metadata": {},
   "outputs": [],
   "source": [
    "-- Testar a View total_eleitores_estado\n",
    "SELECT * FROM total_eleitores_estado;\n",
    "\n",
    "-- Testar inserção de dados na tabela PERFIL_ELEITORADO\n",
    "INSERT INTO PERFIL_ELEITORADO (\n",
    "    DT_GERACAO, ANO_ELEICAO, SG_UF, NM_MUNICIPIO, NR_ZONA, CD_GENERO, \n",
    "    CD_ESTADO_CIVIL, CD_FAIXA_ETARIA, CD_GRAU_ESCOLARIDADE, CD_RACA_COR, \n",
    "    CD_IDENTIDADE_GENERO, CD_QUILOMBOLA, CD_INTERPRETE_LIBRAS, \n",
    "    QT_ELEITORES_PERFIL, QT_ELEITORES_BIOMETRIA, QT_ELEITORES_DEFICIENCIA, \n",
    "    QT_ELEITORES_INC_NM_SOCIAL\n",
    ") VALUES (\n",
    "    '2024-07-16', 2024, 'MG', 'Belo Horizonte', 3, 3, 3, 3, 3, 3, 3, 3, 3, \n",
    "    600, 300, 60, 30\n",
    ");\n",
    "\n",
    "-- Verificar os dados inseridos\n",
    "SELECT * FROM PERFIL_ELEITORADO WHERE SG_UF = 'MG';\n",
    "\n",
    "-- Verificar se Trigger está funcionando corretamente\n",
    "SELECT * FROM log_insercao;\n"
   ]
  },
  {
   "cell_type": "markdown",
   "id": "619d3996-d49e-437f-8f56-5dd7d2444a59",
   "metadata": {},
   "source": [
    "Passo 3: Testar a aplicação e os objetos de banco de dados"
   ]
  },
  {
   "cell_type": "markdown",
   "id": "9bdbe4da-b9bc-4f64-9531-0b1e20b62f81",
   "metadata": {},
   "source": [
    "Testes em Python"
   ]
  },
  {
   "cell_type": "code",
   "execution_count": null,
   "id": "3bd44ac2-424a-4d35-a35d-86e9d0d1b3ca",
   "metadata": {},
   "outputs": [],
   "source": [
    "def test_gerar_dataset():\n",
    "    query = \"SELECT * FROM PERFIL_ELEITORADO WHERE ANO_ELEICAO = 2024\"\n",
    "    dataset = gerar_dataset(query)\n",
    "    assert not dataset.empty, \"Dataset should not be empty\"\n",
    "\n",
    "def test_construir_grafico():\n",
    "    df = pd.DataFrame({\n",
    "        'SG_UF': ['SP', 'RJ', 'MG'],\n",
    "        'total_eleitores': [1000000, 800000, 600000]\n",
    "    })\n",
    "    try:\n",
    "        construir_grafico(df, 'SG_UF', 'total_eleitores', 'bar')\n",
    "    except Exception as e:\n",
    "        assert False, f\"Grafico falhou com erro: {e}\"\n",
    "\n",
    "# Executar testes\n",
    "test_gerar_dataset()\n",
    "test_construir_grafico()\n"
   ]
  },
  {
   "cell_type": "markdown",
   "id": "d266b41f-9737-4bfd-8344-b87914405e46",
   "metadata": {},
   "source": [
    "Testes SQL"
   ]
  },
  {
   "cell_type": "code",
   "execution_count": null,
   "id": "30ce683f-848b-4230-9fe3-f35fbf13f8ce",
   "metadata": {},
   "outputs": [],
   "source": [
    "-- Testar a inserção e a visualização de dados na tabela PERFIL_ELEITORADO\n",
    "INSERT INTO PERFIL_ELEITORADO (\n",
    "    DT_GERACAO, ANO_ELEICAO, SG_UF, NM_MUNICIPIO, NR_ZONA, CD_GENERO, \n",
    "    CD_ESTADO_CIVIL, CD_FAIXA_ETARIA, CD_GRAU_ESCOLARIDADE, CD_RACA_COR, \n",
    "    CD_IDENTIDADE_GENERO, CD_QUILOMBOLA, CD_INTERPRETE_LIBRAS, \n",
    "    QT_ELEITORES_PERFIL, QT_ELEITORES_BIOMETRIA, QT_ELEITORES_DEFICIENCIA, \n",
    "    QT_ELEITORES_INC_NM_SOCIAL\n",
    ") VALUES (\n",
    "    '2024-07-16', 2024, 'BA', 'Salvador', 4, 4, 4, 4, 4, 4, 4, 4, 4, \n",
    "    700, 350, 70, 35\n",
    ");\n",
    "\n",
    "SELECT * FROM PERFIL_ELEITORADO WHERE SG_UF = 'BA';\n",
    "\n",
    "-- Testar a View total_eleitores_estado\n",
    "SELECT * FROM total_eleitores_estado WHERE SG_UF = 'BA';\n",
    "\n",
    "-- Verificar o funcionamento da Trigger log_insercao_perfil\n",
    "SELECT * FROM log_insercao WHERE SG_UF = 'BA';\n"
   ]
  },
  {
   "cell_type": "markdown",
   "id": "b52677cf-060a-4ce4-97f8-91f5a0322541",
   "metadata": {},
   "source": [
    "# 2.7 Realizar a carga do banco de dados a partir dos dataset preparados"
   ]
  },
  {
   "cell_type": "markdown",
   "id": "60f2159c-ecd7-4fb3-8373-77a525352612",
   "metadata": {},
   "source": [
    "Feito pelo MySQL. \n",
    "\n",
    "#Douglas complementar, especificando como foi o processo passo a passo"
   ]
  },
  {
   "cell_type": "markdown",
   "id": "993ef7ef-3e80-43c5-8dba-c092611b2af2",
   "metadata": {
    "jp-MarkdownHeadingCollapsed": true
   },
   "source": [
    "# 2.8 Gerar os relatórios analíticos a serem entregues"
   ]
  },
  {
   "cell_type": "code",
   "execution_count": null,
   "id": "b13480ee-ff51-48eb-8be9-7c61da87984a",
   "metadata": {},
   "outputs": [],
   "source": [
    "def gerar_relatorio_total_eleitores_estado():\n",
    "    query = \"SELECT * FROM total_eleitores_estado\"\n",
    "    df = gerar_dataset(query)\n",
    "    print(\"Relatório: Total de Eleitores por Estado\")\n",
    "    print(df)\n",
    "    construir_grafico(df, 'SG_UF', 'total_eleitores', 'bar')\n",
    "\n",
    "gerar_relatorio_total_eleitores_estado()"
   ]
  },
  {
   "cell_type": "code",
   "execution_count": null,
   "id": "d6a8fef3-aa85-48c0-97f7-b7b8e5908809",
   "metadata": {},
   "outputs": [],
   "source": [
    "def gerar_relatorio_total_eleitores_municipio():\n",
    "    query = \"SELECT * FROM total_eleitores_municipio\"\n",
    "    df = gerar_dataset(query)\n",
    "    print(\"Relatório: Total de Eleitores por Município\")\n",
    "    print(df)\n",
    "    construir_grafico(df, 'NM_MUNICIPIO', 'total_eleitores', 'bar')\n",
    "\n",
    "gerar_relatorio_total_eleitores_municipio()"
   ]
  },
  {
   "cell_type": "code",
   "execution_count": null,
   "id": "e3381ebe-88e6-40fc-90b5-dd8a9818f2f1",
   "metadata": {},
   "outputs": [],
   "source": [
    "def gerar_relatorio_total_eleitores_faixa_etaria():\n",
    "    query = \"SELECT * FROM total_eleitores_faixa_etaria\"\n",
    "    df = gerar_dataset(query)\n",
    "    print(\"Relatório: Total de Eleitores por Faixa Etária\")\n",
    "    print(df)\n",
    "    construir_grafico(df, 'CD_FAIXA_ETARIA', 'total_eleitores', 'bar')\n",
    "\n",
    "gerar_relatorio_total_eleitores_faixa_etaria()"
   ]
  },
  {
   "cell_type": "code",
   "execution_count": null,
   "id": "4b751325-f294-4797-83b9-81854c591f8d",
   "metadata": {},
   "outputs": [],
   "source": [
    "def gerar_relatorio_total_eleitores_escolaridade():\n",
    "    query = \"SELECT * FROM total_eleitores_escolaridade\"\n",
    "    df = gerar_dataset(query)\n",
    "    print(\"Relatório: Total de Eleitores por Grau de Escolaridade\")\n",
    "    print(df)\n",
    "    construir_grafico(df, 'CD_GRAU_ESCOLARIDADE', 'total_eleitores', 'bar')\n",
    "\n",
    "gerar_relatorio_total_eleitores_escolaridade()"
   ]
  },
  {
   "cell_type": "code",
   "execution_count": null,
   "id": "a943de99-6d7f-4641-8697-b45a3ed1236f",
   "metadata": {},
   "outputs": [],
   "source": [
    "def gerar_relatorio_total_eleitores_raca_cor():\n",
    "    query = \"SELECT * FROM total_eleitores_raca_cor\"\n",
    "    df = gerar_dataset(query)\n",
    "    print(\"Relatório: Total de Eleitores por Raça/Cor\")\n",
    "    print(df)\n",
    "    construir_grafico(df, 'CD_RACA_COR', 'total_eleitores', 'bar')\n",
    "\n",
    "gerar_relatorio_total_eleitores_raca_cor()"
   ]
  },
  {
   "cell_type": "code",
   "execution_count": null,
   "id": "d861ad40-7802-4d7e-93ef-2867fe0a3ffb",
   "metadata": {},
   "outputs": [],
   "source": [
    "def gerar_relatorio_total_eleitores_deficiencia():\n",
    "    query = \"SELECT * FROM total_eleitores_deficiencia\"\n",
    "    df = gerar_dataset(query)\n",
    "    print(\"Relatório: Total de Eleitores com Deficiência\")\n",
    "    print(df)\n",
    "\n",
    "gerar_relatorio_total_eleitores_deficiencia()"
   ]
  },
  {
   "cell_type": "markdown",
   "id": "6b995a8a-4970-4e4e-a840-d54ace9f1a14",
   "metadata": {},
   "source": [
    "Executar os relatórios para gerar as análises e os gráficos."
   ]
  },
  {
   "cell_type": "code",
   "execution_count": null,
   "id": "41ce01ac-8540-4bd6-a08a-3699b2bf8c1f",
   "metadata": {},
   "outputs": [],
   "source": [
    "# Executar todos os relatórios\n",
    "gerar_relatorio_total_eleitores_estado()\n",
    "gerar_relatorio_total_eleitores_municipio()\n",
    "gerar_relatorio_total_eleitores_faixa_etaria()\n",
    "gerar_relatorio_total_eleitores_escolaridade()\n",
    "gerar_relatorio_total_eleitores_raca_cor()\n",
    "gerar_relatorio_total_eleitores_deficiencia()"
   ]
  }
 ],
 "metadata": {
  "kernelspec": {
   "display_name": "Python 3 (ipykernel)",
   "language": "python",
   "name": "python3"
  },
  "language_info": {
   "codemirror_mode": {
    "name": "ipython",
    "version": 3
   },
   "file_extension": ".py",
   "mimetype": "text/x-python",
   "name": "python",
   "nbconvert_exporter": "python",
   "pygments_lexer": "ipython3",
   "version": "3.12.4"
  }
 },
 "nbformat": 4,
 "nbformat_minor": 5
}
